{
 "cells": [
  {
   "cell_type": "markdown",
   "source": [
    "# Generating Results on Datasets"
   ],
   "metadata": {}
  },
  {
   "cell_type": "code",
   "execution_count": 1,
   "source": [
    "%load_ext autoreload\n",
    "%autoreload 2\n",
    "%matplotlib inline\n",
    "import os\n",
    "import sys\n",
    "import matplotlib.pyplot as plt\n",
    "plt.rcParams['figure.figsize'] = [14, 8]\n",
    "\n",
    "sys.path.append('../..')\n",
    "from pytracking.analysis.plot_results import plot_results, print_results, print_per_sequence_results\n",
    "from pytracking.evaluation import Tracker, get_dataset, trackerlist\n",
    "from pytracking.analysis.evaluate_vos import evaluate_vos"
   ],
   "outputs": [],
   "metadata": {}
  },
  {
   "cell_type": "code",
   "execution_count": 2,
   "source": [
    "# evaluate STA results\n",
    "trackers = []\n",
    "trackers.extend(trackerlist('sta', 'sta_davis_cp', range(0, 1)))\n",
    "evaluate_vos(trackers, dataset='dv2017_val')"
   ],
   "outputs": [
    {
     "output_type": "stream",
     "name": "stdout",
     "text": [
      "DAVIS/2017/val loaded.\n",
      "1/30: bike-packing: 2 objects\n",
      "joint 1: acc 0.611 ┊░▅▅▅▅▅▅▅▅▅▅▅▅▅▅▅▅▅▅▅▅▄▄▅▅▄▄▄▄▄▄▄▄▅▅▄▄▄▄▅▅▅▅▄▄▅▅▅▅▆▆▆▅▅▅▅▅▅▅▅▅▅▅▅▅▅▅▅░┊\n",
      "joint 2: acc 0.738 ┊░███████▇▇███▇██▇▆▆▆▆▅▅▅▅▅▅▅▅▆▅▅▆▅▆▃▃▃▃▅▃▅▅▃▅▅▅▅▆▅▆▆▆▆▆▆▆▆▆▇▆▇▇▇▆▇▇▆░┊\n",
      "final  : acc 0.675 (0.675) ┊░▆▆▆▆▆▆▆▆▆▆▆▆▆▆▆▆▅▆▅▅▅▅▅▅▅▅▅▅▅▅▅▅▅▅▄▄▄▄▅▄▅▅▄▅▅▅▅▅▆▆▆▆▆▅▆▆▆▆▆▆▆▆▆▆▆▆▆░┊\n",
      "2/30: blackswan: 1 object\n",
      "final  : acc 0.944 (0.764) ┊░▇█████████████▇█████████████████████████████████░┊\n",
      "3/30: bmx-trees: 2 objects\n",
      "joint 1: acc 0.428 ┊░▄▄▄▄▄▄▄▃▃▄▄▄▄▄▄▄▄▃▂▄▄▄▃▃▄▃▄▃▃▃▄▄▄▄▄▄▄▃▄▄▄▄▄▄▄▄▄▃▄▄▃▄▄▃▂▃▂▃▂▂▁▃▂▂▂▃▃▃▃▄▃▄▄▄▄▄▄▃░┊\n",
      "joint 2: acc 0.727 ┊░▇▇▇▇▆▆▆▆▆▆▆▇▇▇▇▅▆▇▇▆▅▅▇▇▆▆▆▇▇▆▇▇▇▇▆▇▇▇▇▇▇▇▇▇▆▇▆▆▆▆▅▄▃▃▄▄▄▅▄▄▂▂▃▄▅▅▄▃▆▇▇▇▇▇▇▇▇▆░┊\n",
      "final  : acc 0.578 (0.690) ┊░▆▅▆▅▅▅▅▅▅▅▅▅▅▅▅▄▅▅▄▅▄▄▅▅▅▄▅▅▅▅▅▅▅▅▅▅▅▅▅▆▅▆▅▅▅▅▅▅▅▅▄▄▃▃▃▄▃▄▃▃▂▂▂▃▃▄▄▃▄▅▅▅▅▅▆▅▅▄░┊\n",
      "4/30: breakdance: 1 object\n",
      "final  : acc 0.884 (0.722) ┊░▇▇▇▇▇▇▇▇▇█▇▇▇▇▇▇▇▇▇▇▇▇▇▇█▇▇▇▇▇▇▇▇▇▇▇▇▇▇▇▇▇▇▇▅▆▇▇▇▆▆▆▆▇▇▇▇▇▇▇▇▇▇▇▇▇▇▇▇▇▇▆▇▇▇▇▇▇▇▇▇▆░┊\n",
      "5/30: camel: 1 object\n",
      "final  : acc 0.929 (0.752) ┊░████▇█▇▇▇█▇▇▇▇▇▇▇█▇███▇▇▇▇▇▇▇▇▇▇▇▇▇██████▇▇▇▇▇▇▇▇▇▇▇▇▇▇▇▇▇▇▇▇▇▇▇▇▇▇▇▇▇████▇▇▇▇▇▇▇███▇▇▇▇░┊\n",
      "6/30: car-roundabout: 1 object\n",
      "final  : acc 0.977 (0.780) ┊░██████████████████████████████████████████████████████████████████████▇██░┊\n",
      "7/30: car-shadow: 1 object\n",
      "final  : acc 0.966 (0.801) ┊░██████████████████████████████████████░┊\n",
      "8/30: cows: 1 object\n",
      "final  : acc 0.933 (0.814) ┊░████████▇▇▇▇▇▇▇▇▇▇▇▇▇▇█▇▇██▇▇▇▇▇▇▇▇▇▇▇▇▇▇▇▇█▇▇▇▇▇▇▇▇▇▇▇▇▇▇▇▇▇▇▇▇▇▇▇▇▇▇▇▇▇▇▇█████▇▇▇█▇█▇█▇▇▇▇▇▇▇█▇▇▇▇▇▇░┊\n",
      "9/30: dance-twirl: 1 object\n",
      "final  : acc 0.850 (0.817) ┊░▇▇▇▇▇▇▇▇▇▇▇▇▆▇▇▇▇▇▇▇▇▇▇▇▇▇▇▇▇▇▇▇▆▆▆▆▆▇▆▆▆▆▆▆▆▆▆▇▆▆▆▆▆▆▆▇▇▇▆▇▇▇▇▇▇▇▇▇▇██▇▇▇▇▇▇███▇▇▇▇▇▇▇▇░┊\n",
      "10/30: dog: 1 object\n",
      "final  : acc 0.930 (0.826) ┊░▇▇▇▇▇▇▇▇▇█▇▇▇▇▇▇▇▇██████▇██▇▇▇▇▇▇▇█▇▇█▇██████▇▇███▇▇▇▇▇▇▇▇░┊\n",
      "11/30: dogs-jump: 3 objects\n",
      "joint 1: acc 0.885 ┊░▇▇▇▇▇▇▇▄▁▁▄▇▇▇▇▇▇▇▇▇▇▇▇▇▇▇▇▇▇▇██▇▇██▇████▇▇▇▇▇▇▇▇▇▇▇▇▇▇▇▇▇▇▇▇▇█▇░┊\n",
      "joint 2: acc 0.926 ┊░██▇█▇▇▇▇▇▇█▇▇████▇███████▇█▇▇██▇▇▇▇███▇▇█▇▇▇▇▇▇▇▇▇▇▇█▇▇▇▇▇▇▇▇▇▇▇░┊\n",
      "joint 3: acc 0.904 ┊░█▇▇▇▇▇▆▆▅▅▆▆▆▇▇▇███████▇▇██▇▇▇▇▇▇▇██▇▇▇▇▇▇▇▇▇▇▇▇▇▇▇▇█▇████████▇█░┊\n",
      "final  : acc 0.905 (0.842) ┊░█▇▇▇▇▇▇▆▄▄▆▇▇▇▇▇█▇██▇███▇▇▇▇▇▇█▇▇▇██▇█▇██▇▇▇▇▇▇▇▇▇▇▇▇▇▇▇█▇▇▇▇▇▇▇░┊\n",
      "12/30: drift-chicane: 1 object\n",
      "final  : acc 0.908 (0.846) ┊░▇▇▇▇▇▇▇▇▇▇▇▇▇▇▇▇▇▇▇▇▇▇▇▇▇▇▇▇▇▇▇▇▇▇▇▇▇▇▇▇▇▇██▇███▇▇░┊\n",
      "13/30: drift-straight: 1 object\n",
      "final  : acc 0.941 (0.852) ┊░█▇█████████████████████████▇█▇█▇█▇▇▇▇█▇███▇▇▇▇▇▇░┊\n",
      "14/30: goat: 1 object\n",
      "final  : acc 0.885 (0.854) ┊░▇▇▇▇▇▇▇▇▇▇▇▇▇▇▇▇▇▇▇▇▇▇▇▇▇▇▇▇▇▇▇▇▇▇▇▇▇▇▇▇▇▇▇▇▇▇▇▇▇▇▇▇▇▇▇▇▇▇▇▇▇▇▇▇▇▇▇▇▇▇▇▇▇▇▇▇▇▇▇▇▇▇▇▇▇▇▇▇░┊\n",
      "15/30: gold-fish: 5 objects\n",
      "joint 1: acc 0.847 ┊░▇▇▇▇▇▇▇▇▆▇▇▇▇▇▇▇▇▇▇▇▇▇▇▇▇▇▇▇▇▇▇▇▇▇▇▇▇▇▇▇▆▇▇▆▇▇▇▇▇▇▇▇▇▇▇▇▇▆▇▇▇▇▆▆▇▅▇▇▇▇▅▅▆▆▆▇░┊\n",
      "joint 2: acc 0.835 ┊░▇▇▇▇▇▇▇▇▇▇▇▇▇▇▇▇▇▇▇▆▆▆▆▆▆▆▆▇▆▆▆▆▆▆▆▇▇▆▆▆▆▆▇▇▇▇▇▇▇▇▇▇▇▇▇▇▇▇▇▇▇▇▇▇▇▇▇▇▇▇▇▇▇▇▇▇░┊\n",
      "joint 3: acc 0.871 ┊░▇▇▇▇▇▇▇▇▇▇▇▇▇▇▇▇▇▇▇▇▇▇▇▇▇▇▇▇▇▇▇▇▇▇▇▇▇▇▆▇▇▇▇▇▇▇▇▇▇▇▇▇▇▇▆▇▇▇▇▇▇▇▇▇▇▇▇▇▇▇▇▆▆▆▆▆░┊\n",
      "joint 4: acc 0.893 ┊░▇▇▇▇▇▇▇▇▇▇▇▇▇▇▇▇▇▇▇▇▇▇▇▇▇▇▇▇▇▇▇▇▇▇▇▇▇▇▇▇▇▇▇▇▇▇▇▇▇▇█▇▇▇▆▇▇▇▇▇▇▇▇▇▇▇▇▇▇▇▇▇▇▇▇▇░┊\n",
      "joint 5: acc 0.900 ┊░▇▇▇██▇██████▇█▇▇▇▇▇▇▇▇▇▇▇▇▇▇▇▇▇▇▇▇▇▇▇▇▇▇▇▇▇▇▇▇▇▇▇▇▇▇▇▇▇▇▇▇▇▇▇▆▇▇▇▇▇▇▇▇▇▇▇▇▇▇░┊\n",
      "final  : acc 0.869 (0.857) ┊░▇▇▇▇▇▇▇▇▇▇▇▇▇▇▇▇▇▇▇▇▇▇▇▇▇▇▇▇▇▇▇▇▇▇▇▇▇▇▇▇▇▇▇▇▇▇▇▇▇▇▇▇▇▇▇▇▇▇▇▇▇▇▇▇▇▇▇▇▇▇▆▆▇▇▇▇░┊\n",
      "16/30: horsejump-high: 2 objects\n",
      "joint 1: acc 0.790 ┊░▆▆▆▆▆▇▆▆▆▆▆▆▇▇▆▆▆▆▆▆▆▆▆▇▆▆▆▆▆▇▆▆▆▆▆▆▆▆▆▆▆▆▆▆▆▆▆▆░┊\n",
      "joint 2: acc 0.835 ┊░▇▇▇▇▇▇▇▇▇▇▇▇▇▆▇▆▆▇▇▆▆▇▆▆▇▇▇▇▇▇▇▇▇▇▇▇▇▇▇▇▇▆▆▆▇▇▇▇░┊\n",
      "final  : acc 0.813 (0.853) ┊░▇▆▇▇▇▇▇▆▇▇▆▆▇▇▆▆▆▆▆▆▆▇▆▆▆▇▇▆▆▇▆▇▇▇▇▇▇▇▆▇▆▆▆▆▆▆▇▇░┊\n",
      "17/30: india: 3 objects\n",
      "joint 1: acc 0.919 ┊░▇▇▇▇▇▇▇▇▇▇▇▇▇█▇▇▇▇▇▇██▇▇██▇▇▇▇▇▇▇▇▇▇█▆▆▄▇▇█▇▇▇▇▇▇▇▇▇▇▇▇▇▇▇▇▇▆██████████████████░┊\n",
      "joint 2: acc 0.822 ┊░▇▇▇▇▇▇▇▇▇▇█▇▇████▇█▇▇▇▇▇▇▇▇▇▇▇▇▇▇▇▇▆▄▇▇▇▇▇▇▇▇▆▇▆▅▆▅██████████████▅▆▅▆▅▆▄▄▄▁▁▁▁▁░┊\n",
      "joint 3: acc 0.834 ┊░█▇██▇▇██▇▇▇▇▇▇█▇█▇▇▇▇▇▇▇▇▇▇▇▇▆▇▇▆▄█▆▇▇▇▇▆▇▆▇▂█████████▇▇▇▅▁▂▄▄▅▆▆▆▆▆▆▆▆▆▆▆▆▇▆▆▆░┊\n",
      "final  : acc 0.858 (0.854) ┊░▇▇▇▇▇▇▇▇▇▇▇▇▇▇█▇▇▇▇▇▇▇▇▇▇▇▇▇▇▇▇▇▇▆▇▆▆▇▇▆▇▇▇▇▆▇▇▇▇▇▇███▇▇▇▇▅▆▆▇▇▇▇▆▇▆▆▆▇▆▆▆▅▅▅▅▅░┊\n",
      "18/30: judo: 2 objects\n",
      "joint 1: acc 0.866 ┊░▇▇▇▇▇▇▇▇▇▇▇▇▇▇▆▆▆▇▇▇▇▇▇▇▇▇▇▇▇▇▇▇░┊\n",
      "joint 2: acc 0.837 ┊░▇▇▇▇▇▇▇▇▇▇▇▇▇▆▆▆▆▆▇▇▇▇▇▆▆▇▆▇▇▇▇▇░┊\n",
      "final  : acc 0.851 (0.854) ┊░▇▇▇▇▇▇▇▇▇▇▇▇▇▇▆▆▆▆▇▇▇▇▇▇▆▇▇▇▇▇▇▇░┊\n",
      "19/30: kite-surf: 3 objects\n",
      "joint 1: acc 0.221 ┊░▂▃▂▂▂▂▂▂▂▂▂▂▂▂▂▂▂▂▂▂▂▂▂▂▂▂▂▂▂▂▂▂▂▂▂▁▁▁▂▁▂▁▁▁▁▂▂▂░┊\n",
      "joint 2: acc 0.584 ┊░▁▄▃▄▅▄▅▅▅▅▄▃▄▂▃█████▆▆▆▆▆▅▅▄▄▁██████ ▁▁▂ ▂█▂▄▁▅▄░┊\n",
      "joint 3: acc 0.702 ┊░▅▆▅▆▆▆▆▅▆▆▆▆▆▆▅▆▆▆▅▅▅▆▆▆▆▆▆▆▅▆▆▆▆▆▆▅▅▅▅▅▆▆▆▆▅▆▆▆░┊\n",
      "final  : acc 0.502 (0.822) ┊░▃▄▄▄▄▄▄▄▄▄▄▄▄▃▄▅▅▅▅▅▄▄▄▄▅▄▄▄▄▃▅▅▅▅▅▅▂▂▂▃▃▃▅▃▄▃▄▄░┊\n",
      "20/30: lab-coat: 5 objects\n",
      "joint 1: acc 0.598 ┊░▃▄▂▄▄▄▃▃▃▄▂  ▂▅▆▅▆▆▆▅▆▆▅▅▄▅▆▅▅▅▃▆▇▆▆▇▆▇▆▇▆▆▇▇░┊\n",
      "joint 2: acc 0.553 ┊░▁▁▁ ▃▄▃▃▄▄▅▆▆▆▆▅▅▄▅▅▅▅▃▄▃▃▄▄▄▄▆▄▅▅▅▆▆▆▆▆▅▅▆▅▅░┊\n",
      "joint 3: acc 0.944 ┊░████████████████████▇██▇▇▇██▇▇▇██████████████░┊\n",
      "joint 4: acc 0.854 ┊░▇▇▇▇▇▇▇▇▇▇▇▇▇▇▇▆▇▇▇▅▅▆▆▆▆▅▅▇█▇▆▆███▇▇███▇▇███░┊\n",
      "joint 5: acc 0.910 ┊░▇▇▇▇▇▇▇▇▇▇▇▇▇▇▇▇▇▇▇▇▇▇▇▇▇▇██▇██▇▇▇▇█▇████████░┊\n",
      "final  : acc 0.772 (0.815) ┊░▅▅▅▅▆▆▆▆▆▆▆▆▆▆▇▆▆▆▆▆▆▆▆▆▆▅▆▆▆▆▆▆▇▇▇▇▇▇▇▇▇▇▇▇▇░┊\n",
      "21/30: libby: 1 object\n",
      "final  : acc 0.886 (0.817) ┊░▇▇▇▇▇▇████▇▇▇▇▇▇▇▇▇▇▇▇▇▇▇▇▇▇▇▇▇▇▇▆▇▇▇▇▇▇▇▇▇▇▆▇▆░┊\n",
      "22/30: loading: 3 objects\n",
      "joint 1: acc 0.963 ┊░████████████████████████████████████████████████░┊\n",
      "joint 2: acc 0.824 ┊░▇▆▇▇▇▇▇▇▆▇▆▆▆▆▇▆▇▇▆▆▇▇▇▇▇▇▇▇▅▇▆▇▆▆▇▇▇▇▅▇▇▇▅▆▇▇▇▇░┊\n",
      "joint 3: acc 0.901 ┊░██████▇▇▇█▇▇█▇███▇▇▇▇▇▇▇▇▇▇▇▇▇▇▇▇▇▇▇▇▇▇▇▆▇▆▇▇▇▇▇░┊\n",
      "final  : acc 0.896 (0.823) ┊░▇▇▇▇▇▇▇▇▇▇▇▇▇▇▇▇▇▇▇▇▇▇▇▇▇▇▇▇▇▇▇▇▇▇▇▇▇▇▆▇▇▇▆▇▇▇▇▇░┊\n",
      "23/30: mbike-trick: 2 objects\n",
      "joint 1: acc 0.816 ┊░▆▆▆▆▆▆▆▆▆▆▆▆▆▆▆▆▇▇▇▇▆▆▇▇▇▇▇▇▇▇▇▆▇▇▇▇▇▆▆▇▇▇▇▇▆▇▆▆▆▇▇▇▇▇▇▇▇▇▆▇▇▇▇▇▆▇▆▆▆▆▇▇▇▇▇▆▇░┊\n",
      "joint 2: acc 0.801 ┊░▇▇▇▇▇▇▇▇▇▇▇▇▇▇▇▇▇▇▇▇▇▇▇▇▇▇▇▆▆▆▆▆▆▅▅▅▅▅▅▅▅▅▅▅▅▅▆▆▆▆▅▆▆▇▇▇▇▇▇▇▇▇▇▇▇▇▇▇▇▇▇▇▇▇▇▇▇░┊\n",
      "final  : acc 0.809 (0.822) ┊░▇▆▆▆▇▇▇▇▇▇▆▇▇▆▇▇▇▇▇▇▆▇▇▇▇▇▇▆▆▆▆▆▆▆▆▆▆▆▆▆▆▆▆▆▆▆▆▆▆▆▆▇▆▇▇▇▇▇▇▇▇▇▇▇▇▇▇▇▇▇▇▇▇▇▇▇▇░┊\n",
      "24/30: motocross-jump: 2 objects\n",
      "joint 1: acc 0.818 ┊░▅▆▅▇▇▆▆▇▇▇▇▇▇▇▇▇▇▆▄▇▇█▇▅▆█▆██▆▆▆▆▇▇▆▆▆░┊\n",
      "joint 2: acc 0.834 ┊░▆▇▆▇▇▇▇▇▇▇▇▇▆▇▆▆▇▇▇▇▇▇▇▆▆▇▇▇▇▆▇▇▆▇▇▆▆▆░┊\n",
      "final  : acc 0.826 (0.822) ┊░▅▆▆▇▇▇▇▇▇▇▇▇▇▇▇▇▇▆▅▇▇▇▇▆▆▇▆▇▇▆▇▆▆▇▇▆▆▆░┊\n",
      "25/30: paragliding-launch: 3 objects\n",
      "joint 1: acc 0.755 ┊░▆▆▄▅▆▅▅▅▅▆▆▆▆▆▇▇▆▇▇▇▇▆▆▆▇▇▆▆▇▇▇▇▇▇▇▆▇▆▆▇▇▆▇▇▇▆▆▆▆▅▆▆▅▅▆▅▅▅▅▅▅▆▆▆▅▆▆▆▆▆▆▆▆▆▆▆▆▆░┊\n",
      "joint 2: acc 0.632 ┊░▅▅▅▅▅▅▅▅▅▅▅▅▅▅▆▅▅▅▅▅▆▅▅▅▆▅▅▅▅▆▆▆▆▆▆▆▆▅▅▅▆▅▆▆▆▆▆▆▆▅▆▅▅▅▄▄▄▄▅▅▅▅▅▅▅▄▅▄▅▄▄▄▄▅▄▄▄▃░┊\n",
      "joint 3: acc 0.084 ┊░▁▁▁▁▁▁▁▁▁▁▁▁▁▁▁▁▂▂▁▁▁▁▁▁ ▁▁▁▁▁▁▁▁▁▁▁▁▁▁▁ ▁▁▁   ▁                              ░┊\n",
      "final  : acc 0.490 (0.802) ┊░▄▄▃▄▄▄▄▃▄▄▄▄▄▄▅▄▄▅▄▄▄▄▄▄▄▄▄▄▄▅▅▅▅▅▄▄▄▄▄▄▄▄▄▄▄▄▄▄▄▃▄▄▃▄▃▃▃▃▃▃▄▄▃▄▃▄▄▄▄▃▄▄▄▄▄▃▃▃░┊\n",
      "26/30: parkour: 1 object\n",
      "final  : acc 0.931 (0.805) ┊░▇▇▇▇▇▇▇▇▇▇▇▇▇▇███▇█▇▇▇▇▇█▇▇▇▇▇▇▇█▇▇▇█▇██▇███████████▇▇█▇▇▇███▇█▇████▇▇███████▇▇▇▇▇▇▇▇▇▇▇█▇▇▇▇▇▇▇▇▇░┊\n",
      "27/30: pigs: 3 objects\n",
      "joint 1: acc 0.913 ┊░▇█████▇▇▇▇▇▇▇▇▇█▇▇█▇██████▇▇▇▇▇▇▇▇▇▇▇█▇▇▇▇▇▇▇▇▇▇▇▇▇▇▇▇▇▇▇▇▇▇▇▇▇▇▇▇▇▇▇▇▇▇▇▇▇▇▇░┊\n",
      "joint 2: acc 0.704 ┊░▇▇▇▇▇▇▇▇▇▇▇▇▇▇▇▇▇▇▇▇▇▇▇▇▇▇▇▇▆▇▇▆▆▇▇▇▇▇▆▆▆▅▆▅▅▅▂▄▄▄▆▆▆▅▅▅▄▄▃▃▂    ▁▃▃▄▅▆▆▇▇▇▇▇░┊\n",
      "joint 3: acc 0.933 ┊░███▇▇▇▇▇▇▇▇▇▇▇▇▇▇▇████████▇▇▇▇▇▇█▇█████████▇▇▇▇▇▇▇▇▇▇▇▇▇▇██▇███████████▇███▇▇░┊\n",
      "final  : acc 0.850 (0.807) ┊░▇▇▇▇▇▇▇▇▇▇▇▇▇▇▇▇▇▇▇▇▇████▇▇▇▇▇▇▇▇▇▇▇▇▇▇▇▇▇▇▇▆▇▅▆▆▆▇▇▇▆▆▇▆▆▆▆▆▅▅▅▅▅▆▆▆▇▇▇▇▇▇▇▇░┊\n",
      "28/30: scooter-black: 2 objects\n",
      "joint 1: acc 0.815 ┊░▆▆▆▆▆▆▆▆▆▆▆▆▆▆▇▇▇▇▇▇▇▇▇▇▇▇▇▇▇▇▇▇▇▇▇▇▇▆▇▇▇░┊\n",
      "joint 2: acc 0.875 ┊░▇▇▇▆▇▇▇▇▇▇▇▇▇▇▇▇▇▇▇▇▇▇▇▇▇▇▇▇▇▇▇▇▇▇▇▇▇▇▇▇▇░┊\n",
      "final  : acc 0.845 (0.808) ┊░▆▆▆▆▇▆▇▇▆▇▇▇▇▇▇▇▇▇▇▇▇▇▇▇▇▇▇▇▇▇▇▇▇▇▇▇▇▇▇▇▇░┊\n",
      "29/30: shooting: 3 objects\n",
      "joint 1: acc 0.790 ┊░▅▆▅▆▅▆▅▆▆▆▅▁▄▇▇▆▇▇▇▇▇▇▇▆▇▇▇▇▇▇▇▇▇▇▇▇▇▇░┊\n",
      "joint 2: acc 0.886 ┊░▆▇▇▇▆▆▇▇▇▇▇▆▇█▇▇█████▆████▆▇▇▇▇▇▇▇█▇█▇░┊\n",
      "joint 3: acc 0.870 ┊░▆▆▇▇▇█▇██▇▇▇▆▆▆▆▆▆▆▆▇▇▇▇▇▇▇▇▇▇▇▇█▇▇▇▇▇░┊\n",
      "final  : acc 0.849 (0.811) ┊░▆▆▆▇▆▇▇▇▇▇▆▄▆▇▇▆▇▇▇▇▇▇▇▇▇▇▇▇▇▇▇▇▇▇▇▇▇▇░┊\n",
      "30/30: soapbox: 3 objects\n",
      "joint 1: acc 0.857 ┊░▆▇▆▆▆▆▆▆▆▆▆▆▆▆▆▆▆▆▆▇▇▆▆▆▆▆▆▆▆▆▇▇▇▇▇▇▇▇▇▇▇▇▇▇▇▇▇▇▇▇▇▇▇▇▇▇▇▇▇▇▇▇▇▇▇▇▇▇▇▇▇▇▇▇▇▇▇▇▇▇▇▇▇▇▇▇▇▇▇▇▇▇▇▇▇▇▆░┊\n",
      "joint 2: acc 0.821 ┊░▆▆▆▆▆▆▆▆▆▆▆▆▆▆▆▆▆▆▆▆▆▆▆▆▆▆▆▇▆▆▆▆▆▇▇▇▇▇▇▇▇▇▇▇▇▇▇▇▇▇▇▇▇▇▇▇▇▇▇▇▇▇▇▇▇▇▇▇▇▇▇▇▇▇▇▇▇▇▇▇▆▆▇▇▇▇▇▇▇▇▆▆▆▆▆▆▆░┊\n",
      "joint 3: acc 0.824 ┊░▅▆▅▅▅▆▅▅▆▆▅▅▅▆▅▆▆▆▆▆▆▆▅▅▅▆▆▅▆▆▇▇▆▆▇▆▆▆▆▇▇▇▇▇▇▇▇▇▇▇▇▇▇▇▇▇▇▇▇▇▇▇▇▇▇▇▇▇▇▇▇▇▇▇▇▇▇█████████████▇▇▇▇▇▇▇░┊\n",
      "final  : acc 0.834 (0.812) ┊░▆▆▆▆▆▆▆▆▆▆▆▆▆▆▆▆▆▆▆▆▆▆▆▆▆▆▆▆▆▆▆▇▇▇▇▇▇▇▇▇▇▇▇▇▇▇▇▇▇▇▇▇▇▇▇▇▇▇▇▇▇▇▇▇▇▇▇▇▇▇▇▇▇▇▇▇▇▇▇▇▇▇▇▇▇▇▇▇▇▇▇▇▆▇▇▇▆░┊\n",
      "J: 0.812, recall: 0.926, decay: 0.002\n",
      "\n",
      "                          | J-Mean     | J-Recall    | J-Decay    |\n",
      "sta sta_davis_cp_000      | 81.17      | 92.56       | 0.15       |\n",
      "\n"
     ]
    },
    {
     "output_type": "execute_result",
     "data": {
      "text/plain": [
       "([     J-Mean  J-Recall   J-Decay\n",
       "  0  0.811713  0.925566  0.001533],\n",
       " [          Sequence    J-Mean  J-Recall   J-Decay\n",
       "  0   bike-packing_1  0.610973  1.000000 -0.049671\n",
       "  1   bike-packing_2  0.738134  0.910448  0.146141\n",
       "  2      blackswan_1  0.944352  1.000000 -0.001557\n",
       "  3      bmx-trees_1  0.427937  0.128205  0.093377\n",
       "  4      bmx-trees_2  0.727114  0.884615  0.159450\n",
       "  ..             ...       ...       ...       ...\n",
       "  56      shooting_2  0.886161  1.000000 -0.086682\n",
       "  57      shooting_3  0.869925  1.000000 -0.035461\n",
       "  58       soapbox_1  0.857451  1.000000 -0.118126\n",
       "  59       soapbox_2  0.820919  1.000000 -0.062378\n",
       "  60       soapbox_3  0.823770  1.000000 -0.246549\n",
       "  \n",
       "  [61 rows x 4 columns]])"
      ]
     },
     "metadata": {},
     "execution_count": 2
    }
   ],
   "metadata": {}
  },
  {
   "cell_type": "markdown",
   "source": [
    "## Plots for OTB, NFS and UAV"
   ],
   "metadata": {}
  },
  {
   "cell_type": "code",
   "execution_count": null,
   "source": [
    "trackers = []\n",
    "trackers.extend(trackerlist('atom', 'default', range(0,5), 'ATOM'))\n",
    "trackers.extend(trackerlist('dimp', 'dimp18', range(0,5), 'DiMP18'))\n",
    "trackers.extend(trackerlist('dimp', 'dimp50', range(0,5), 'DiMP50'))\n",
    "trackers.extend(trackerlist('dimp', 'prdimp18', range(0,5), 'PrDiMP18'))\n",
    "trackers.extend(trackerlist('dimp', 'prdimp50', range(0,5), 'PrDiMP50'))\n",
    "\n",
    "dataset = get_dataset('otb')\n",
    "plot_results(trackers, dataset, 'OTB', merge_results=True, plot_types=('success', 'prec'), \n",
    "             skip_missing_seq=False, force_evaluation=True, plot_bin_gap=0.05, exclude_invalid_frames=False)\n",
    "\n",
    "dataset = get_dataset('nfs')\n",
    "plot_results(trackers, dataset, 'NFS', merge_results=True, plot_types=('success', 'prec'), \n",
    "             skip_missing_seq=False, force_evaluation=True, plot_bin_gap=0.05, exclude_invalid_frames=False)\n",
    "\n",
    "dataset = get_dataset('uav')\n",
    "plot_results(trackers, dataset, 'UAV', merge_results=True, plot_types=('success', 'prec'), \n",
    "             skip_missing_seq=False, force_evaluation=True, plot_bin_gap=0.05, exclude_invalid_frames=False)\n",
    "\n",
    "dataset = get_dataset('otb', 'nfs', 'uav')\n",
    "plot_results(trackers, dataset, 'OTB+NFS+UAV', merge_results=True, plot_types=('success', 'prec'), \n",
    "             skip_missing_seq=False, force_evaluation=True, plot_bin_gap=0.05, exclude_invalid_frames=False)"
   ],
   "outputs": [],
   "metadata": {}
  },
  {
   "cell_type": "markdown",
   "source": [
    "## Plots for LaSOT"
   ],
   "metadata": {}
  },
  {
   "cell_type": "code",
   "execution_count": null,
   "source": [
    "trackers = []\n",
    "trackers.extend(trackerlist('atom', 'default', range(0,5), 'ATOM'))\n",
    "trackers.extend(trackerlist('dimp', 'dimp18', range(0,5), 'DiMP18'))\n",
    "trackers.extend(trackerlist('dimp', 'dimp50', range(0,5), 'DiMP50'))\n",
    "trackers.extend(trackerlist('dimp', 'prdimp18', range(0,5), 'PrDiMP18'))\n",
    "trackers.extend(trackerlist('dimp', 'prdimp50', range(0,5), 'PrDiMP50'))\n",
    "\n",
    "dataset = get_dataset('lasot')\n",
    "plot_results(trackers, dataset, 'LaSOT', merge_results=True, plot_types=('success'), \n",
    "             skip_missing_seq=False, force_evaluation=True, plot_bin_gap=0.05)"
   ],
   "outputs": [],
   "metadata": {}
  },
  {
   "cell_type": "markdown",
   "source": [
    "## Tables for OTB, NFS, UAV and LaSOT"
   ],
   "metadata": {}
  },
  {
   "cell_type": "code",
   "execution_count": null,
   "source": [
    "trackers = []\n",
    "trackers.extend(trackerlist('atom', 'default', range(0,5), 'ATOM'))\n",
    "trackers.extend(trackerlist('dimp', 'dimp18', range(0,5), 'DiMP18'))\n",
    "trackers.extend(trackerlist('dimp', 'dimp50', range(0,5), 'DiMP50'))\n",
    "trackers.extend(trackerlist('dimp', 'prdimp18', range(0,5), 'PrDiMP18'))\n",
    "trackers.extend(trackerlist('dimp', 'prdimp50', range(0,5), 'PrDiMP50'))\n",
    "\n",
    "dataset = get_dataset('otb')\n",
    "print_results(trackers, dataset, 'OTB', merge_results=True, plot_types=('success', 'prec', 'norm_prec'))\n",
    "\n",
    "dataset = get_dataset('nfs')\n",
    "print_results(trackers, dataset, 'NFS', merge_results=True, plot_types=('success', 'prec', 'norm_prec'))\n",
    "\n",
    "dataset = get_dataset('uav')\n",
    "print_results(trackers, dataset, 'UAV', merge_results=True, plot_types=('success', 'prec', 'norm_prec'))\n",
    "\n",
    "dataset = get_dataset('otb', 'nfs', 'uav')\n",
    "print_results(trackers, dataset, 'OTB+NFS+UAV', merge_results=True, plot_types=('success', 'prec', 'norm_prec'))\n",
    "\n",
    "dataset = get_dataset('lasot')\n",
    "print_results(trackers, dataset, 'LaSOT', merge_results=True, plot_types=('success', 'prec', 'norm_prec'))"
   ],
   "outputs": [],
   "metadata": {}
  },
  {
   "cell_type": "markdown",
   "source": [
    "## Filtered per-sequence results"
   ],
   "metadata": {}
  },
  {
   "cell_type": "code",
   "execution_count": null,
   "source": [
    "# Print per sequence results for sequences where all trackers fail, i.e. all trackers have average overlap in percentage of less than 10.0\n",
    "filter_criteria = {'mode': 'ao_max', 'threshold': 10.0}\n",
    "dataset = get_dataset('otb', 'nfs', 'uav')\n",
    "print_per_sequence_results(trackers, dataset, 'OTB+NFS+UAV', merge_results=True, filter_criteria=filter_criteria, force_evaluation=False)"
   ],
   "outputs": [],
   "metadata": {}
  },
  {
   "cell_type": "code",
   "execution_count": null,
   "source": [
    "# Print per sequence results for sequences where at least one tracker fails, i.e. a tracker has average overlap in percentage of less than 10.0\n",
    "filter_criteria = {'mode': 'ao_min', 'threshold': 10.0}\n",
    "dataset = get_dataset('otb', 'nfs', 'uav')\n",
    "print_per_sequence_results(trackers, dataset, 'OTB+NFS+UAV', merge_results=True, filter_criteria=filter_criteria, force_evaluation=False)"
   ],
   "outputs": [],
   "metadata": {}
  },
  {
   "cell_type": "code",
   "execution_count": null,
   "source": [
    "# Print per sequence results for sequences where the trackers have differing behavior.\n",
    "# i.e. average overlap in percentage for different trackers on a sequence differ by at least 40.0\n",
    "filter_criteria = {'mode': 'delta_ao', 'threshold': 40.0}\n",
    "dataset = get_dataset('otb', 'nfs', 'uav')\n",
    "print_per_sequence_results(trackers, dataset, 'OTB+NFS+UAV', merge_results=True, filter_criteria=filter_criteria, force_evaluation=False)"
   ],
   "outputs": [],
   "metadata": {}
  },
  {
   "cell_type": "code",
   "execution_count": null,
   "source": [
    "# Print per sequence results for all sequences\n",
    "filter_criteria = None\n",
    "dataset = get_dataset('otb', 'nfs', 'uav')\n",
    "print_per_sequence_results(trackers, dataset, 'OTB+NFS+UAV', merge_results=True, filter_criteria=filter_criteria, force_evaluation=False)"
   ],
   "outputs": [],
   "metadata": {}
  }
 ],
 "metadata": {
  "kernelspec": {
   "name": "python3",
   "display_name": "Python 3.7.6 64-bit ('pytracking': conda)"
  },
  "language_info": {
   "codemirror_mode": {
    "name": "ipython",
    "version": 3
   },
   "file_extension": ".py",
   "mimetype": "text/x-python",
   "name": "python",
   "nbconvert_exporter": "python",
   "pygments_lexer": "ipython3",
   "version": "3.7.6"
  },
  "interpreter": {
   "hash": "75b3c4f0cb80b41d7624071a965f226bc66105853f746c5b75437c4d24e84699"
  }
 },
 "nbformat": 4,
 "nbformat_minor": 4
}